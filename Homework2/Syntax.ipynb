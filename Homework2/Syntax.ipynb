{
 "cells": [
  {
   "cell_type": "markdown",
   "metadata": {},
   "source": [
    "# Базовая часть"
   ]
  },
  {
   "cell_type": "markdown",
   "metadata": {},
   "source": [
    "## Задание 1.1\n",
    "\n",
    "Напишите функцию, которая принимает список чисел my_list (количество товаров разных марок) и число $n$ и возвращает сумму всех чисел списка меньше либо равных $n$ (суммарное количество товаров, которых в наличие меньше либо равно $n$)."
   ]
  },
  {
   "cell_type": "code",
   "execution_count": 1,
   "metadata": {},
   "outputs": [],
   "source": [
    "def function_1_1(my_list, n):\n",
    "    return sum(filter(lambda x: x <= n, my_list))"
   ]
  },
  {
   "cell_type": "code",
   "execution_count": 3,
   "metadata": {},
   "outputs": [
    {
     "data": {
      "text/plain": [
       "True"
      ]
     },
     "execution_count": 3,
     "metadata": {},
     "output_type": "execute_result"
    }
   ],
   "source": [
    "function_1_1([1, 2, 3, 4, 5, 6, 3, 7], 7) == 31"
   ]
  },
  {
   "cell_type": "code",
   "execution_count": 6,
   "metadata": {},
   "outputs": [
    {
     "data": {
      "text/plain": [
       "True"
      ]
     },
     "execution_count": 6,
     "metadata": {},
     "output_type": "execute_result"
    }
   ],
   "source": [
    "function_1_1([1, 2, 3, 4, 4, 3, 2, 1], 7) == 20"
   ]
  },
  {
   "cell_type": "code",
   "execution_count": 7,
   "metadata": {},
   "outputs": [
    {
     "data": {
      "text/plain": [
       "True"
      ]
     },
     "execution_count": 7,
     "metadata": {},
     "output_type": "execute_result"
    }
   ],
   "source": [
    "function_1_1([1, 2, 3, 4, 4, 3, 2, 1], 3) == 12"
   ]
  },
  {
   "cell_type": "code",
   "execution_count": 8,
   "metadata": {},
   "outputs": [
    {
     "data": {
      "text/plain": [
       "True"
      ]
     },
     "execution_count": 8,
     "metadata": {},
     "output_type": "execute_result"
    }
   ],
   "source": [
    "function_1_1([1, 2, 3, 4, 5, 6, 3, 7], 5) == 18"
   ]
  },
  {
   "cell_type": "code",
   "execution_count": 9,
   "metadata": {},
   "outputs": [
    {
     "data": {
      "text/plain": [
       "True"
      ]
     },
     "execution_count": 9,
     "metadata": {},
     "output_type": "execute_result"
    }
   ],
   "source": [
    "function_1_1([1, 2, 3, 4, 5, 6, 3, 7], 3) == 9"
   ]
  },
  {
   "cell_type": "code",
   "execution_count": 10,
   "metadata": {},
   "outputs": [
    {
     "data": {
      "text/plain": [
       "True"
      ]
     },
     "execution_count": 10,
     "metadata": {},
     "output_type": "execute_result"
    }
   ],
   "source": [
    "function_1_1([1, 2, 3, 4, 5, 6, 3, 7], 0) == 0"
   ]
  },
  {
   "cell_type": "markdown",
   "metadata": {},
   "source": [
    "#### Значение для формы"
   ]
  },
  {
   "cell_type": "code",
   "execution_count": 11,
   "metadata": {},
   "outputs": [
    {
     "name": "stdout",
     "output_type": "stream",
     "text": [
      "2496584\n"
     ]
    }
   ],
   "source": [
    "import random\n",
    "\n",
    "random.seed(42)\n",
    "print(function_1_1([random.randint(0, 1000) for _ in range(10000)], 700))"
   ]
  },
  {
   "cell_type": "markdown",
   "metadata": {},
   "source": [
    "## Задание 1.2\n",
    "\n",
    "Имеется список пар (фамилия, долг) $my\\_list$ и число $dept$. Нужно написать функцию, которая для каждой фамилии находит суммарный долг и выводит отсортированный список фамилий, у которых долг строго больше $dept$.\n",
    "\n",
    "Одна и та же фамилия может встречаться несколько раз, и тогда долги по ней суммируются."
   ]
  },
  {
   "cell_type": "code",
   "execution_count": 21,
   "metadata": {},
   "outputs": [],
   "source": [
    "def function_1_2(my_list, dept):\n",
    "    d = {}\n",
    "    output = []\n",
    "    for i in my_list:\n",
    "        if i[0] in d:\n",
    "            d[i[0]] += i[1]\n",
    "        else:\n",
    "            d[i[0]] = i[1]\n",
    "    sorted_d = sorted(d.items(), key=lambda kv: kv[1])\n",
    "    print(sorted_d)\n",
    "    for i in sorted_d:\n",
    "        if i[1] > dept:\n",
    "            output.append(i[0])\n",
    "    print(output)\n",
    "    return output"
   ]
  },
  {
   "cell_type": "code",
   "execution_count": 30,
   "metadata": {},
   "outputs": [
    {
     "name": "stdout",
     "output_type": "stream",
     "text": [
      "[('Petrov', 2), ('Ivanov', 3), ('Sidorov', 4)]\n",
      "['Petrov', 'Ivanov', 'Sidorov']\n"
     ]
    },
    {
     "data": {
      "text/plain": [
       "True"
      ]
     },
     "execution_count": 30,
     "metadata": {},
     "output_type": "execute_result"
    }
   ],
   "source": [
    "function_1_2([('Ivanov', 1), ('Petrov', 2), ('Ivanov', 2), ('Sidorov', 4)], 1) == ['Petrov','Ivanov', 'Sidorov']"
   ]
  },
  {
   "cell_type": "code",
   "execution_count": 23,
   "metadata": {},
   "outputs": [
    {
     "name": "stdout",
     "output_type": "stream",
     "text": [
      "[('Petrov', 2), ('Ivanov', 3), ('Sidorov', 4)]\n",
      "['Ivanov', 'Sidorov']\n"
     ]
    },
    {
     "data": {
      "text/plain": [
       "True"
      ]
     },
     "execution_count": 23,
     "metadata": {},
     "output_type": "execute_result"
    }
   ],
   "source": [
    "function_1_2([('Ivanov', 1), ('Petrov', 2), ('Ivanov', 2), ('Sidorov', 4)], 2) == ['Ivanov', 'Sidorov']"
   ]
  },
  {
   "cell_type": "code",
   "execution_count": 24,
   "metadata": {},
   "outputs": [
    {
     "name": "stdout",
     "output_type": "stream",
     "text": [
      "[('Petrov', 2), ('Ivanov', 3), ('Sidorov', 4)]\n",
      "['Sidorov']\n"
     ]
    },
    {
     "data": {
      "text/plain": [
       "True"
      ]
     },
     "execution_count": 24,
     "metadata": {},
     "output_type": "execute_result"
    }
   ],
   "source": [
    "function_1_2([('Ivanov', 1), ('Petrov', 2), ('Ivanov', 2), ('Sidorov', 4)], 3) == ['Sidorov']"
   ]
  },
  {
   "cell_type": "code",
   "execution_count": 25,
   "metadata": {},
   "outputs": [
    {
     "name": "stdout",
     "output_type": "stream",
     "text": [
      "[('Petrov', 2), ('Ivanov', 3), ('Sidorov', 4)]\n",
      "[]\n"
     ]
    },
    {
     "data": {
      "text/plain": [
       "True"
      ]
     },
     "execution_count": 25,
     "metadata": {},
     "output_type": "execute_result"
    }
   ],
   "source": [
    "function_1_2([('Ivanov', 1), ('Petrov', 2), ('Ivanov', 2), ('Sidorov', 4)], 4) == []"
   ]
  },
  {
   "cell_type": "code",
   "execution_count": 26,
   "metadata": {},
   "outputs": [
    {
     "name": "stdout",
     "output_type": "stream",
     "text": [
      "[('Ivanov', 2), ('Petrov', 2), ('Sidorov', 4)]\n",
      "['Sidorov']\n"
     ]
    },
    {
     "data": {
      "text/plain": [
       "True"
      ]
     },
     "execution_count": 26,
     "metadata": {},
     "output_type": "execute_result"
    }
   ],
   "source": [
    "function_1_2([('Ivanov', 1), ('Petrov', 2), ('Ivanov', 1), ('Sidorov', 4)], 2) == ['Sidorov']"
   ]
  },
  {
   "cell_type": "code",
   "execution_count": 27,
   "metadata": {},
   "outputs": [
    {
     "name": "stdout",
     "output_type": "stream",
     "text": [
      "[('Ivanov', 3), ('Petrov', 6)]\n",
      "['Ivanov', 'Petrov']\n"
     ]
    },
    {
     "data": {
      "text/plain": [
       "True"
      ]
     },
     "execution_count": 27,
     "metadata": {},
     "output_type": "execute_result"
    }
   ],
   "source": [
    "function_1_2([('Ivanov', 1), ('Petrov', 2), ('Ivanov', 2), ('Petrov', 4)], 2) == ['Ivanov', 'Petrov']"
   ]
  },
  {
   "cell_type": "code",
   "execution_count": 28,
   "metadata": {},
   "outputs": [
    {
     "name": "stdout",
     "output_type": "stream",
     "text": [
      "[('Ivanov', 3), ('Petrov', 6)]\n",
      "['Petrov']\n"
     ]
    },
    {
     "data": {
      "text/plain": [
       "True"
      ]
     },
     "execution_count": 28,
     "metadata": {},
     "output_type": "execute_result"
    }
   ],
   "source": [
    "function_1_2([('Ivanov', 1), ('Petrov', 2), ('Ivanov', 2), ('Petrov', 4)], 3) == ['Petrov']"
   ]
  },
  {
   "cell_type": "markdown",
   "metadata": {},
   "source": [
    "#### Значение для формы"
   ]
  },
  {
   "cell_type": "code",
   "execution_count": 31,
   "metadata": {},
   "outputs": [
    {
     "name": "stdout",
     "output_type": "stream",
     "text": [
      "[('17', 19224), ('12', 19542), ('7', 19727), ('6', 20187), ('16', 20630), ('1', 20896), ('2', 21797), ('13', 22226), ('15', 22384), ('20', 23753), ('3', 25262), ('5', 26022), ('19', 26422), ('11', 26566), ('10', 27819), ('9', 28964), ('18', 29253), ('8', 29651), ('14', 30696), ('4', 32921)]\n",
      "['3', '5', '19', '11', '10', '9', '18', '8', '14', '4']\n",
      "3,5,19,11,10,9,18,8,14,4\n"
     ]
    }
   ],
   "source": [
    "import random\n",
    "import numpy as np\n",
    "\n",
    "\n",
    "random.seed(42)\n",
    "print(','.join(function_1_2([\n",
    "    (str(random.randint(1, 20)), random.randint(1, 1000) )\n",
    "    for _ in range(1000)\n",
    "], 25000)))"
   ]
  },
  {
   "cell_type": "markdown",
   "metadata": {},
   "source": [
    "# Продвинутая часть"
   ]
  },
  {
   "cell_type": "markdown",
   "metadata": {},
   "source": [
    "## Задание 2.1\n",
    "\n",
    "Напишите функцию, принимающую число $n$ и считающую $n!$, не используя модуль math\n",
    "\n",
    "$n! = 1 \\cdot 2 \\cdot 3 \\cdot \\dots \\cdot (n - 1) \\cdot n$\n",
    "\n",
    "Подсказка: воспользуйтесь циклами"
   ]
  },
  {
   "cell_type": "code",
   "execution_count": 10,
   "metadata": {},
   "outputs": [],
   "source": [
    "def function_2_1(n):\n",
    "    if n == 0:\n",
    "        return 1\n",
    "    else:\n",
    "        return function_2_1(n - 1) * n"
   ]
  },
  {
   "cell_type": "code",
   "execution_count": 11,
   "metadata": {},
   "outputs": [
    {
     "data": {
      "text/plain": [
       "True"
      ]
     },
     "execution_count": 11,
     "metadata": {},
     "output_type": "execute_result"
    }
   ],
   "source": [
    "function_2_1(3) == 6"
   ]
  },
  {
   "cell_type": "code",
   "execution_count": 12,
   "metadata": {},
   "outputs": [
    {
     "data": {
      "text/plain": [
       "True"
      ]
     },
     "execution_count": 12,
     "metadata": {},
     "output_type": "execute_result"
    }
   ],
   "source": [
    "function_2_1(5) == 120"
   ]
  },
  {
   "cell_type": "code",
   "execution_count": 13,
   "metadata": {},
   "outputs": [
    {
     "data": {
      "text/plain": [
       "True"
      ]
     },
     "execution_count": 13,
     "metadata": {},
     "output_type": "execute_result"
    }
   ],
   "source": [
    "function_2_1(9) == 362880"
   ]
  },
  {
   "cell_type": "code",
   "execution_count": 14,
   "metadata": {},
   "outputs": [
    {
     "data": {
      "text/plain": [
       "True"
      ]
     },
     "execution_count": 14,
     "metadata": {},
     "output_type": "execute_result"
    }
   ],
   "source": [
    "function_2_1(13) == 6227020800"
   ]
  },
  {
   "cell_type": "markdown",
   "metadata": {},
   "source": [
    "#### Значение для формы"
   ]
  },
  {
   "cell_type": "code",
   "execution_count": 15,
   "metadata": {},
   "outputs": [
    {
     "name": "stdout",
     "output_type": "stream",
     "text": [
      "93326215443944152681699238856266700490715968264381621468592963895217599993229915608941463976156518286253697920827223758251185210916864000000000000000000000000\n"
     ]
    }
   ],
   "source": [
    "print(function_2_1(100))"
   ]
  },
  {
   "cell_type": "markdown",
   "metadata": {},
   "source": [
    "## Задание 2.2\n",
    "\n",
    "Есть два списка чисел: цены товаров в одном магазине и цены товаров в другом магазине.\n",
    "\n",
    "Нужно сравнить средние (среднее берётся по всем товарам) цены, минимальные цены и максимальные  в магазинах. Если первое зачение меньше надо вернуть 'First', если второе, то 'Second', а если равны, то 'Equal'\n",
    "\n",
    "Например, function_2_2([1, 2, 3], [2, 2, 2])\n",
    "\n",
    "В первом магазине среднее значение 2, минимальное 1, максимальное 3. А во втором среднее 2, минимальное 2 и максимальное 2.\n",
    "\n",
    "Результаты сравнения $2 = 2,~1 < 2,~3 > 2$, поэтому нужно вернуть  ('Equal', 'First', 'Second')"
   ]
  },
  {
   "cell_type": "code",
   "execution_count": 20,
   "metadata": {},
   "outputs": [],
   "source": [
    "def mean(l):\n",
    "    return sum(l)/len(l)\n",
    "\n",
    "def function_2_2(list1, list2):\n",
    "    f_array = [mean, min, max]\n",
    "    l = []\n",
    "    for f in f_array:\n",
    "        if f(list1) < f(list2):\n",
    "            l.append('First')\n",
    "        if f(list1) > f(list2):\n",
    "            l.append('Second')\n",
    "        if f(list1) == f(list2):\n",
    "            l.append('Equal')\n",
    "    print (l)\n",
    "    return tuple(l)"
   ]
  },
  {
   "cell_type": "code",
   "execution_count": 21,
   "metadata": {},
   "outputs": [
    {
     "name": "stdout",
     "output_type": "stream",
     "text": [
      "['Equal', 'First', 'Second']\n"
     ]
    },
    {
     "data": {
      "text/plain": [
       "True"
      ]
     },
     "execution_count": 21,
     "metadata": {},
     "output_type": "execute_result"
    }
   ],
   "source": [
    "function_2_2([1, 2, 3], [2, 2, 2]) == ('Equal', 'First', 'Second')"
   ]
  },
  {
   "cell_type": "code",
   "execution_count": 22,
   "metadata": {},
   "outputs": [
    {
     "name": "stdout",
     "output_type": "stream",
     "text": [
      "['First', 'First', 'First']\n"
     ]
    },
    {
     "data": {
      "text/plain": [
       "True"
      ]
     },
     "execution_count": 22,
     "metadata": {},
     "output_type": "execute_result"
    }
   ],
   "source": [
    "function_2_2([2, 2, 1], [4]) ==('First', 'First', 'First')"
   ]
  },
  {
   "cell_type": "code",
   "execution_count": 23,
   "metadata": {},
   "outputs": [
    {
     "name": "stdout",
     "output_type": "stream",
     "text": [
      "['Equal', 'Second', 'First']\n"
     ]
    },
    {
     "data": {
      "text/plain": [
       "True"
      ]
     },
     "execution_count": 23,
     "metadata": {},
     "output_type": "execute_result"
    }
   ],
   "source": [
    "function_2_2([3, 5], [2, 4, 6]) == ('Equal', 'Second', 'First')"
   ]
  },
  {
   "cell_type": "code",
   "execution_count": 24,
   "metadata": {},
   "outputs": [
    {
     "name": "stdout",
     "output_type": "stream",
     "text": [
      "['First', 'First', 'Equal']\n"
     ]
    },
    {
     "data": {
      "text/plain": [
       "True"
      ]
     },
     "execution_count": 24,
     "metadata": {},
     "output_type": "execute_result"
    }
   ],
   "source": [
    "function_2_2([1, 7], [2, 4, 7]) == ('First', 'First', 'Equal')"
   ]
  },
  {
   "cell_type": "markdown",
   "metadata": {},
   "source": [
    "#### Значение для формы"
   ]
  },
  {
   "cell_type": "code",
   "execution_count": 25,
   "metadata": {},
   "outputs": [
    {
     "name": "stdout",
     "output_type": "stream",
     "text": [
      "['Second', 'First', 'Second']\n",
      "Second,First,Second\n"
     ]
    }
   ],
   "source": [
    "import random\n",
    "\n",
    "random.seed(47)\n",
    "print(','.join(function_2_2(\n",
    "    [random.randint(0, 100000) for _ in range(1000)],\n",
    "    [random.randint(0, 100000) for _ in range(1000)]\n",
    ")))"
   ]
  },
  {
   "cell_type": "markdown",
   "metadata": {},
   "source": [
    "# Сложная часть"
   ]
  },
  {
   "cell_type": "markdown",
   "metadata": {},
   "source": [
    "## Задание 3.1\n",
    "\n",
    "Вам известны количество продаж разных товаров. Они представлены в виде списка, первое значение - число продаж первого товара, второе значение - второго, и так далее. Вы хотите посмотреть на список самых популярных товаров среди тех, у которых объём продаж не выше заданного числа.\n",
    "\n",
    "Напишите функцию, которая принимает список чисел my_list, число  $n$ и число $k$  и возвращает сумму $k$ наибольших чисел среди всех чисел списка меньше либо равных  $n$ ."
   ]
  },
  {
   "cell_type": "code",
   "execution_count": 48,
   "metadata": {},
   "outputs": [
    {
     "data": {
      "text/plain": [
       "[10, 8]"
      ]
     },
     "execution_count": 48,
     "metadata": {},
     "output_type": "execute_result"
    }
   ],
   "source": [
    "sorted([3,2,3,1,10,2,5,8], reverse = True)[:2]"
   ]
  },
  {
   "cell_type": "code",
   "execution_count": 51,
   "metadata": {},
   "outputs": [],
   "source": [
    "def function_3_1(my_list, n, k):\n",
    "    return sum(sorted(filter(lambda x: x <= n, my_list), reverse = True)[:k])"
   ]
  },
  {
   "cell_type": "code",
   "execution_count": 54,
   "metadata": {},
   "outputs": [
    {
     "data": {
      "text/plain": [
       "True"
      ]
     },
     "execution_count": 54,
     "metadata": {},
     "output_type": "execute_result"
    }
   ],
   "source": [
    "function_3_1([1, 2, 3, 4, 5, 6, 3, 7], 7, 1) == 7"
   ]
  },
  {
   "cell_type": "code",
   "execution_count": 52,
   "metadata": {},
   "outputs": [
    {
     "data": {
      "text/plain": [
       "True"
      ]
     },
     "execution_count": 52,
     "metadata": {},
     "output_type": "execute_result"
    }
   ],
   "source": [
    "function_3_1([1, 2, 3, 4, 5, 6, 3, 7], 7, 3) == 18"
   ]
  },
  {
   "cell_type": "code",
   "execution_count": 53,
   "metadata": {},
   "outputs": [
    {
     "data": {
      "text/plain": [
       "True"
      ]
     },
     "execution_count": 53,
     "metadata": {},
     "output_type": "execute_result"
    }
   ],
   "source": [
    "function_3_1([1, 2, 3, 4, 5, 6, 3, 7], 7, 5) == 25"
   ]
  },
  {
   "cell_type": "code",
   "execution_count": 55,
   "metadata": {},
   "outputs": [
    {
     "data": {
      "text/plain": [
       "True"
      ]
     },
     "execution_count": 55,
     "metadata": {},
     "output_type": "execute_result"
    }
   ],
   "source": [
    "function_3_1([1, 2, 3, 4, 5, 6, 3, 7], 7, 8) == 31"
   ]
  },
  {
   "cell_type": "code",
   "execution_count": 56,
   "metadata": {},
   "outputs": [
    {
     "data": {
      "text/plain": [
       "True"
      ]
     },
     "execution_count": 56,
     "metadata": {},
     "output_type": "execute_result"
    }
   ],
   "source": [
    "function_3_1([1, 2, 3, 4, 5, 6, 3, 7], 7, 10) == 31"
   ]
  },
  {
   "cell_type": "code",
   "execution_count": 57,
   "metadata": {},
   "outputs": [
    {
     "data": {
      "text/plain": [
       "True"
      ]
     },
     "execution_count": 57,
     "metadata": {},
     "output_type": "execute_result"
    }
   ],
   "source": [
    "function_3_1([1, 5, 3, 6, 5, 6, 3, 6], 6, 3) == 18"
   ]
  },
  {
   "cell_type": "code",
   "execution_count": 58,
   "metadata": {},
   "outputs": [
    {
     "data": {
      "text/plain": [
       "True"
      ]
     },
     "execution_count": 58,
     "metadata": {},
     "output_type": "execute_result"
    }
   ],
   "source": [
    "function_3_1([1, 5, 3, 6, 5, 6, 3, 6], 5, 3) == 13"
   ]
  },
  {
   "cell_type": "code",
   "execution_count": 59,
   "metadata": {},
   "outputs": [
    {
     "data": {
      "text/plain": [
       "True"
      ]
     },
     "execution_count": 59,
     "metadata": {},
     "output_type": "execute_result"
    }
   ],
   "source": [
    "function_3_1([1, 5, 3, 6, 5, 6, 3, 6], 4, 3) == 7"
   ]
  },
  {
   "cell_type": "code",
   "execution_count": 60,
   "metadata": {},
   "outputs": [
    {
     "data": {
      "text/plain": [
       "True"
      ]
     },
     "execution_count": 60,
     "metadata": {},
     "output_type": "execute_result"
    }
   ],
   "source": [
    "function_3_1([1, 5, 3, 6, 5, 6, 3, 6], 6, 2) == 12"
   ]
  },
  {
   "cell_type": "code",
   "execution_count": 61,
   "metadata": {},
   "outputs": [
    {
     "data": {
      "text/plain": [
       "True"
      ]
     },
     "execution_count": 61,
     "metadata": {},
     "output_type": "execute_result"
    }
   ],
   "source": [
    "function_3_1([1, 5, 3, 6, 5, 6, 3, 6], 5, 2) == 10"
   ]
  },
  {
   "cell_type": "code",
   "execution_count": 62,
   "metadata": {},
   "outputs": [
    {
     "data": {
      "text/plain": [
       "True"
      ]
     },
     "execution_count": 62,
     "metadata": {},
     "output_type": "execute_result"
    }
   ],
   "source": [
    "function_3_1([1, 5, 3, 6, 5, 6, 3, 6], 4, 2) == 6"
   ]
  },
  {
   "cell_type": "markdown",
   "metadata": {},
   "source": [
    "#### Значение для формы"
   ]
  },
  {
   "cell_type": "code",
   "execution_count": 63,
   "metadata": {},
   "outputs": [
    {
     "name": "stdout",
     "output_type": "stream",
     "text": [
      "205778\n"
     ]
    }
   ],
   "source": [
    "import random\n",
    "\n",
    "random.seed(42)\n",
    "print(function_3_1([random.randint(0, 1000) for _ in range(10000)], 700, 300))"
   ]
  },
  {
   "cell_type": "markdown",
   "metadata": {},
   "source": [
    "## Задание 3.2\n",
    "\n",
    "Напишите списковое выражение, генерирующее все простые числа не больше заданного числа"
   ]
  },
  {
   "cell_type": "code",
   "execution_count": 82,
   "metadata": {},
   "outputs": [],
   "source": [
    "from math import sqrt\n",
    "from itertools import count, islice\n",
    "\n",
    "def function_3_2(n):\n",
    "    return [i for i in range(n + 1) if i > 1 and all(i%j for j in islice(count(2), int(sqrt(i)-1)))]\n",
    "    "
   ]
  },
  {
   "cell_type": "code",
   "execution_count": 83,
   "metadata": {},
   "outputs": [
    {
     "data": {
      "text/plain": [
       "True"
      ]
     },
     "execution_count": 83,
     "metadata": {},
     "output_type": "execute_result"
    }
   ],
   "source": [
    "function_3_2(3) == [2, 3]"
   ]
  },
  {
   "cell_type": "code",
   "execution_count": 84,
   "metadata": {},
   "outputs": [
    {
     "data": {
      "text/plain": [
       "True"
      ]
     },
     "execution_count": 84,
     "metadata": {},
     "output_type": "execute_result"
    }
   ],
   "source": [
    "function_3_2(10) == [2, 3, 5, 7]"
   ]
  },
  {
   "cell_type": "code",
   "execution_count": 85,
   "metadata": {},
   "outputs": [
    {
     "data": {
      "text/plain": [
       "True"
      ]
     },
     "execution_count": 85,
     "metadata": {},
     "output_type": "execute_result"
    }
   ],
   "source": [
    "function_3_2(20) == [2, 3, 5, 7, 11, 13, 17, 19]"
   ]
  },
  {
   "cell_type": "markdown",
   "metadata": {},
   "source": [
    "#### Значение для формы"
   ]
  },
  {
   "cell_type": "code",
   "execution_count": 86,
   "metadata": {},
   "outputs": [
    {
     "name": "stdout",
     "output_type": "stream",
     "text": [
      "5736396\n"
     ]
    }
   ],
   "source": [
    "print(sum(function_3_2(10000)))"
   ]
  },
  {
   "cell_type": "markdown",
   "metadata": {},
   "source": [
    "# По хардкору"
   ]
  },
  {
   "cell_type": "code",
   "execution_count": null,
   "metadata": {},
   "outputs": [],
   "source": []
  },
  {
   "cell_type": "markdown",
   "metadata": {},
   "source": [
    "## Задание 4.1\n",
    "\n",
    "Напишите функцию, которая по множеству, возвращает список всех его подмножеств. \n",
    "\n",
    "\n",
    "Что здесь ожидается увидеть? Моя функция возвращает набор всех подмножеств."
   ]
  },
  {
   "cell_type": "code",
   "execution_count": 159,
   "metadata": {},
   "outputs": [
    {
     "data": {
      "text/plain": [
       "[(2,), (0,), (1,), (0, 1), (0, 2), (1, 2), (0, 1, 2)]"
      ]
     },
     "execution_count": 159,
     "metadata": {},
     "output_type": "execute_result"
    }
   ],
   "source": [
    "function_4_1(set(range(3)))"
   ]
  },
  {
   "cell_type": "code",
   "execution_count": 158,
   "metadata": {},
   "outputs": [
    {
     "data": {
      "text/plain": [
       "[{0}]"
      ]
     },
     "execution_count": 158,
     "metadata": {},
     "output_type": "execute_result"
    }
   ],
   "source": [
    "function_4_1(set(range(1)))"
   ]
  },
  {
   "cell_type": "code",
   "execution_count": 157,
   "metadata": {},
   "outputs": [
    {
     "data": {
      "text/plain": [
       "[(0,), (1,), (0, 1)]"
      ]
     },
     "execution_count": 157,
     "metadata": {},
     "output_type": "execute_result"
    }
   ],
   "source": [
    "function_4_1(set(range(2)))"
   ]
  },
  {
   "cell_type": "code",
   "execution_count": 156,
   "metadata": {},
   "outputs": [],
   "source": [
    "import itertools\n",
    "\n",
    "def function_4_1(my_set):\n",
    "    all_subsets = list()\n",
    "    if len(my_set) == 1:\n",
    "        all_subsets.append(my_set)\n",
    "        return all_subsets\n",
    "    for i in range(len(my_set) + 1)[1:]:\n",
    "        for j in set(itertools.combinations(my_set, i)):\n",
    "            all_subsets.append(j)\n",
    "    return all_subsets"
   ]
  },
  {
   "cell_type": "code",
   "execution_count": 154,
   "metadata": {},
   "outputs": [],
   "source": [
    "def check_4_1(my_set, function_res):\n",
    "    if len(function_res) != len(set(map(frozenset, function_res))):\n",
    "        return False\n",
    "    if len(function_res) != 2 ** len(my_set):\n",
    "        return False\n",
    "    return all(x <= my_set for x in function_res)"
   ]
  },
  {
   "cell_type": "markdown",
   "metadata": {},
   "source": [
    "#### Значение для формы"
   ]
  },
  {
   "cell_type": "code",
   "execution_count": 160,
   "metadata": {},
   "outputs": [
    {
     "name": "stdout",
     "output_type": "stream",
     "text": [
      "220416\n"
     ]
    }
   ],
   "source": [
    "print(sum([\n",
    "    len(subset) - sum(subset) + sum(subset) ** 2\n",
    "    for subset in function_4_1(set(range(2, 21, 3)))\n",
    "]))"
   ]
  },
  {
   "cell_type": "markdown",
   "metadata": {},
   "source": [
    "## Задание 4.2\n",
    "\n",
    "Напишите функцию раскладывающее число на простые множители\n",
    "\n",
    "по числу $n$ нужно вернуть список пар $(p_i, c_i)$ такой, что $\\prod_i~p_i^{c_i} = n$"
   ]
  },
  {
   "cell_type": "code",
   "execution_count": null,
   "metadata": {},
   "outputs": [],
   "source": [
    "def is_prime(n):\n",
    "    return n > 1 and all(n % i != 0 for i in range(2, n))\n",
    "\n",
    "def function_4_2(n):\n",
    "                "
   ]
  },
  {
   "cell_type": "code",
   "execution_count": null,
   "metadata": {},
   "outputs": [],
   "source": [
    "def check_4_2(n, my_list):\n",
    "    prod = 1\n",
    "    for p, c in my_list:\n",
    "        if not is_prime(p):\n",
    "            return False\n",
    "        prod *= p ** c\n",
    "    return prod == n"
   ]
  },
  {
   "cell_type": "code",
   "execution_count": null,
   "metadata": {},
   "outputs": [],
   "source": [
    "check_4_2(10, function_4_2(10))"
   ]
  },
  {
   "cell_type": "code",
   "execution_count": null,
   "metadata": {},
   "outputs": [],
   "source": [
    "check_4_2(11690, function_4_2(11690))"
   ]
  },
  {
   "cell_type": "code",
   "execution_count": null,
   "metadata": {},
   "outputs": [],
   "source": [
    "check_4_2(254242, function_4_2(254242))"
   ]
  },
  {
   "cell_type": "markdown",
   "metadata": {},
   "source": [
    "#### Значение для формы"
   ]
  },
  {
   "cell_type": "code",
   "execution_count": null,
   "metadata": {},
   "outputs": [],
   "source": [
    "print(sum(\n",
    "    (c + 1) ** (p - 1) * c - p\n",
    "    for p, c in function_4_2(7648)\n",
    "))"
   ]
  }
 ],
 "metadata": {
  "kernelspec": {
   "display_name": "Python 3",
   "language": "python",
   "name": "python3"
  },
  "language_info": {
   "codemirror_mode": {
    "name": "ipython",
    "version": 3
   },
   "file_extension": ".py",
   "mimetype": "text/x-python",
   "name": "python",
   "nbconvert_exporter": "python",
   "pygments_lexer": "ipython3",
   "version": "3.7.1"
  }
 },
 "nbformat": 4,
 "nbformat_minor": 2
}
