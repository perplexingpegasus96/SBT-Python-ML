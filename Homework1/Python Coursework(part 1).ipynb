{
 "cells": [
  {
   "cell_type": "code",
   "execution_count": 1,
   "metadata": {},
   "outputs": [
    {
     "name": "stdout",
     "output_type": "stream",
     "text": [
      "Populating the interactive namespace from numpy and matplotlib\n"
     ]
    },
    {
     "name": "stderr",
     "output_type": "stream",
     "text": [
      "C:\\Users\\swink_000\\Anaconda2\\lib\\site-packages\\IPython\\core\\magics\\pylab.py:161: UserWarning: pylab import has clobbered these variables: ['plt']\n",
      "`%matplotlib` prevents importing * from pylab and numpy\n",
      "  \"\\n`%matplotlib` prevents importing * from pylab and numpy\"\n"
     ]
    }
   ],
   "source": [
    "import numpy as np\n",
    "import cmath\n",
    "import pandas as pd\n",
    "import time\n",
    "import matplotlib.pylab as plt\n",
    "%pylab inline\n",
    "\n",
    "\n",
    "import matplotlib as mpl\n",
    "import warnings\n",
    "warnings.filterwarnings(\"ignore\")\n",
    "plt.rcParams['figure.figsize'] = 10, 7\n",
    "plt.rcParams['axes.grid'] = True\n",
    "mpl.rcParams['font.family'] = 'Ubuntu'\n",
    "plt.rc('text', usetex=False)\n",
    "plt.rc('font', family='serif')\n",
    "plt.rc('font', weight='bold')\n",
    "plt.rc('xtick', labelsize=10) \n",
    "plt.rc('ytick', labelsize=10)\n",
    "# чтобы был русский шрифт\n",
    "from matplotlib import rc\n",
    "font = {'family': 'Verdana',\n",
    "        'weight': 'normal'}\n",
    "rc('font', **font)"
   ]
  },
  {
   "cell_type": "markdown",
   "metadata": {},
   "source": [
    "### Вопрос 1"
   ]
  },
  {
   "cell_type": "markdown",
   "metadata": {},
   "source": [
    "* Чем отличаются list & tuple? List(список) - изменяемый список, tuple(кортеж) - неизменяемый список. При изменении кортежа, создается новый объект в памяти, при изменении списка, ничего не создается.\n",
    "\n",
    "* Какой из них можно добавлять в качестве ключа в dict и добавлять в set? Почему? В качестве ключа в dict можно добавлять кортеж, так как в словаре все ключи должны быть уникальны, а каждый кортеж, в свою очередь, создает новый объект в памяти, следовательно каждый кортеж в памяти уникален. В set можно добавлять, как кортеж, так и список(в любом случае, мы будем хранить только уникальные элементы)\n",
    "\n",
    "* На какой структуре данных реализван dict? Dict - множество (key, value) пар. Где key - любой неизменяемый тип данных(хэшируемый).\n",
    "\n",
    "* Чем отличается range от xrange в Python 2? Range- создает список с заданными верхними и нижними границами и указанным шагом. Xrange - создает объект xrange, который производит те же элементы, что и range, но не хранит их в памяти. Нужен для большого количества элементов.\n",
    "\n",
    "* Что такое list comprehension? List comprehension - краткий способ создавать список. Структура LC следующая: [expression for item in list if conditional] \n",
    "\n",
    "* Как работают map & reduce в Python? Map, reduce - first class functions. Map - применяет к данному итерируемому объекту нужную операцию, синтаксис такой: map(function,iterator). Reduce - последовательно применяет операцию к двум элементам списка, потом к следующим и тд, после одного прохода, делает так опять, и так пока не останется 1 элемент."
   ]
  },
  {
   "cell_type": "markdown",
   "metadata": {},
   "source": [
    "### Вопрос 2"
   ]
  },
  {
   "cell_type": "markdown",
   "metadata": {},
   "source": [
    "Напишите рекурсивную функцию, возвращающую N число Фибоначчи и проверте работу для небольших N"
   ]
  },
  {
   "cell_type": "code",
   "execution_count": 20,
   "metadata": {},
   "outputs": [
    {
     "name": "stdout",
     "output_type": "stream",
     "text": [
      "F(5) = 5\n",
      "F(12) = 144\n",
      "F(22) = 17711\n"
     ]
    }
   ],
   "source": [
    "def FibonachiNumber(i):\n",
    "    if i < 2:\n",
    "        return i\n",
    "    else:\n",
    "        return FibonachiNumber(i - 1) + FibonachiNumber(i - 2)\n",
    "\n",
    "print 'F({0}) = {1}'.format(5, FibonachiNumber(5))\n",
    "print 'F({0}) = {1}'.format(12, FibonachiNumber(12))\n",
    "print 'F({0}) = {1}'.format(22, FibonachiNumber(22))"
   ]
  },
  {
   "cell_type": "markdown",
   "metadata": {},
   "source": [
    "### Вопрос 3"
   ]
  },
  {
   "cell_type": "markdown",
   "metadata": {},
   "source": [
    "Измерьте время работы рекурсивной функции Фибоначчи"
   ]
  },
  {
   "cell_type": "code",
   "execution_count": 23,
   "metadata": {
    "collapsed": true
   },
   "outputs": [
    {
     "name": "stdout",
     "output_type": "stream",
     "text": [
      "0\n",
      "5\n",
      "10\n",
      "15\n",
      "20\n",
      "25\n",
      "30\n",
      "35\n",
      "40\n",
      "45\n"
     ]
    }
   ],
   "source": [
    "Narray = range(0,50,5)\n",
    "timeTakenArray = []\n",
    "for nth in Narray:\n",
    "    print nth\n",
    "    time1 = time.time()\n",
    "    FibonachiNumber(nth)\n",
    "    time2 = time.time()\n",
    "    timeTakenArray.append((time2-time1))"
   ]
  },
  {
   "cell_type": "code",
   "execution_count": 33,
   "metadata": {},
   "outputs": [
    {
     "data": {
      "text/plain": [
       "<matplotlib.text.Text at 0x1374cf98>"
      ]
     },
     "execution_count": 33,
     "metadata": {},
     "output_type": "execute_result"
    },
    {
     "data": {
      "image/png": "[encoded data removed]",
      "text/plain": [
       "<matplotlib.figure.Figure at 0x1376ba58>"
      ]
     },
     "metadata": {},
     "output_type": "display_data"
    }
   ],
   "source": [
    "plt.rcParams['figure.figsize'] = 7,5\n",
    "plt.plot(Narray, timeTakenArray)\n",
    "plt.xlabel('Input number')\n",
    "plt.ylabel('Number of seconds')"
   ]
  },
  {
   "cell_type": "markdown",
   "metadata": {},
   "source": [
    "### Вопрос 4"
   ]
  },
  {
   "cell_type": "markdown",
   "metadata": {},
   "source": [
    "Функция, которая возвращает через запятую модуль и аргумент комплексного числа по заданной мнимой и действительной части"
   ]
  },
  {
   "cell_type": "code",
   "execution_count": 63,
   "metadata": {},
   "outputs": [
    {
     "data": {
      "text/plain": [
       "(1.0, 0.0)"
      ]
     },
     "execution_count": 63,
     "metadata": {},
     "output_type": "execute_result"
    }
   ],
   "source": [
    "def complexNumbers(z):\n",
    "    module = np.sqrt(z.real ** 2 + z.imag ** 2)\n",
    "    argument = cmath.phase(z)\n",
    "    return module, argument\n",
    "\n",
    "complexNumbers(1)"
   ]
  },
  {
   "cell_type": "markdown",
   "metadata": {},
   "source": [
    "### Вопрос 5"
   ]
  },
  {
   "cell_type": "markdown",
   "metadata": {},
   "source": [
    "Напишите docstrings к последней функции, проверьте ее с помощью doctest."
   ]
  },
  {
   "cell_type": "code",
   "execution_count": 21,
   "metadata": {},
   "outputs": [
    {
     "name": "stdout",
     "output_type": "stream",
     "text": [
      "**********************************************************************\n",
      "File \"__main__\", line 6, in __main__.complexNumbers\n",
      "Failed example:\n",
      "    complexNumbers(-1)\n",
      "Expected:\n",
      "    (1.0, np.pi)\n",
      "Got:\n",
      "    (1.0, 3.141592653589793)\n",
      "**********************************************************************\n",
      "1 items had failures:\n",
      "   1 of   2 in __main__.complexNumbers\n",
      "***Test Failed*** 1 failures.\n"
     ]
    },
    {
     "data": {
      "text/plain": [
       "TestResults(failed=1, attempted=2)"
      ]
     },
     "execution_count": 21,
     "metadata": {},
     "output_type": "execute_result"
    }
   ],
   "source": [
    "import doctest\n",
    "\n",
    "def complexNumbers(z):\n",
    "    \"\"\"\n",
    "    Return module and argument of input complex number in form of z = a + b*i\n",
    "    >>> complexNumbers(-1)\n",
    "    (1.0, np.pi)\n",
    "    >>> complexNumbers(1)\n",
    "    (1.0, 0.0)\n",
    "    \"\"\"\n",
    "    module = np.sqrt(z.real ** 2 + z.imag ** 2)\n",
    "    argument = cmath.phase(z)\n",
    "    return module, argument\n",
    "\n",
    "doctest.testmod()"
   ]
  },
  {
   "cell_type": "markdown",
   "metadata": {},
   "source": [
    "### Вопрос 6"
   ]
  },
  {
   "cell_type": "markdown",
   "metadata": {},
   "source": [
    "Реализуйте класс базовых чисел с самым базовым функционалом"
   ]
  },
  {
   "cell_type": "code",
   "execution_count": 77,
   "metadata": {},
   "outputs": [
    {
     "name": "stdout",
     "output_type": "stream",
     "text": [
      "complex Module = 1.0\n",
      "complex Argument = 3.14159265359\n"
     ]
    }
   ],
   "source": [
    "class complexNumber:\n",
    "    def __init__(self, real, imag):\n",
    "        self._real = real\n",
    "        self._imag = imag\n",
    "    \n",
    "    def module(self):\n",
    "        module = np.sqrt(self._real ** 2 + self._imag ** 2)\n",
    "        return module\n",
    "    \n",
    "    def argument(self):\n",
    "        argument = cmath.phase(complex(self._real, self._imag))\n",
    "        return argument\n",
    "        \n",
    "z = complexNumber(-1,0)\n",
    "print 'complex Module = {0}'.format(z.module())\n",
    "print 'complex Argument = {0}'.format(z.argument())"
   ]
  },
  {
   "cell_type": "markdown",
   "metadata": {},
   "source": [
    "### Вопрос 7"
   ]
  },
  {
   "cell_type": "markdown",
   "metadata": {},
   "source": [
    "Напишите кэширующий декоратор и декоратор, вычисляющий время работы функции. Объясните, как они работают, сравните результаты при применении этих декораторов к функции Фибоначчи."
   ]
  },
  {
   "cell_type": "markdown",
   "metadata": {},
   "source": [
    "#### Cashing decorator\n"
   ]
  },
  {
   "cell_type": "code",
   "execution_count": 62,
   "metadata": {
    "collapsed": true
   },
   "outputs": [],
   "source": [
    "def cachingDecorator(function):\n",
    "    \"\"\"\n",
    "    Декоратор, который хранит в себе посчитанные значения последовательности и когда они встречаются\n",
    "    опять, он их достает из памяти, а не считает заного\n",
    "    \"\"\"\n",
    "    cache = {}\n",
    "    def decorated_function(*args):\n",
    "        if args in cache:\n",
    "            return cache[args]\n",
    "        else:\n",
    "            val = function(*args)\n",
    "            cache[args] = val\n",
    "            return val\n",
    "    return decorated_function\n",
    "\n",
    "@cachingDecorator\n",
    "def FibonachiNumber(i):\n",
    "    if i < 2:\n",
    "        return i\n",
    "    else:\n",
    "        return FibonachiNumber(i - 1) + FibonachiNumber(i - 2)"
   ]
  },
  {
   "cell_type": "code",
   "execution_count": 55,
   "metadata": {},
   "outputs": [
    {
     "name": "stdout",
     "output_type": "stream",
     "text": [
      "13.1450002193\n"
     ]
    }
   ],
   "source": [
    "#without decorator\n",
    "time1 = time.time()\n",
    "FibonachiNumber(35)\n",
    "time2 = time.time()\n",
    "print time2 - time1"
   ]
  },
  {
   "cell_type": "code",
   "execution_count": 77,
   "metadata": {},
   "outputs": [
    {
     "name": "stdout",
     "output_type": "stream",
     "text": [
      "0.000999927520752\n"
     ]
    }
   ],
   "source": [
    "#with decorator\n",
    "time1 = time.time()\n",
    "FibonachiNumber(35)\n",
    "time2 = time.time()\n",
    "print time2 - time1"
   ]
  },
  {
   "cell_type": "markdown",
   "metadata": {},
   "source": [
    "#### Time decorator"
   ]
  },
  {
   "cell_type": "code",
   "execution_count": 2,
   "metadata": {},
   "outputs": [
    {
     "data": {
      "text/plain": [
       "0.06299996376037598"
      ]
     },
     "execution_count": 2,
     "metadata": {},
     "output_type": "execute_result"
    }
   ],
   "source": [
    "def timeDecorator(function):\n",
    "    def decorated_function(*args):\n",
    "        time1 = time.time()\n",
    "        res = function(*args)\n",
    "        time2 = time.time()\n",
    "        return time2 - time1\n",
    "    return decorated_function\n",
    "\n",
    "@timeDecorator\n",
    "def FibonachiNumber(i):\n",
    "    if i < 2:\n",
    "        return i\n",
    "    else:\n",
    "        return FibonachiNumber(i - 1) + FibonachiNumber(i - 2)\n",
    "    \n",
    "FibonachiNumber(20)"
   ]
  },
  {
   "cell_type": "markdown",
   "metadata": {},
   "source": [
    "### Вопрос 8"
   ]
  },
  {
   "cell_type": "markdown",
   "metadata": {},
   "source": [
    "Чем отличается задание поля x через self.x = , от объявления метода с декоратором property?\n",
    "\n",
    "Есть несколько отличий property от задания x через self.x = :\n",
    "\n",
    "* Property - может быть вычисляемым аттрибутом класса\n",
    "\n",
    "* Используя property можно сделать getter и setter для инкапсуляции аттрибутов класса. Таким образом, например, мы сможем контролировать, что как задавать аттрибуты.(Если мы например не можем сделать значение выше некоторого класса, мы можем описать это поведение в setter)"
   ]
  },
  {
   "cell_type": "markdown",
   "metadata": {},
   "source": [
    "### Вопрос 9"
   ]
  },
  {
   "cell_type": "markdown",
   "metadata": {},
   "source": [
    "Напишите getter и setter для класса complexNumber."
   ]
  },
  {
   "cell_type": "code",
   "execution_count": 84,
   "metadata": {},
   "outputs": [
    {
     "name": "stdout",
     "output_type": "stream",
     "text": [
      "1 3.14159265359\n",
      "1 3.14159265359\n"
     ]
    }
   ],
   "source": [
    "class complexNumber:\n",
    "    def __init__(self):\n",
    "        self._real = None\n",
    "        self._imag = None\n",
    "        \n",
    "    @property\n",
    "    def real(self):\n",
    "        return self._real\n",
    "    \n",
    "    @property\n",
    "    def imag(self):\n",
    "        return self._imag\n",
    "    \n",
    "    @real.setter\n",
    "    def real(self, value):\n",
    "        self._real = value\n",
    "        \n",
    "    @imag.setter\n",
    "    def imag(self, value):\n",
    "        self._imag = value\n",
    "    \n",
    "z = complexNumber\n",
    "\n",
    "z.real = 1 #setter\n",
    "z.imag = np.pi #setter\n",
    "print z.real, z.imag\n",
    "\n",
    "a = z.real #getter\n",
    "b = z.imag #getter\n",
    "print a, b"
   ]
  }
 ],
 "metadata": {
  "kernelspec": {
   "display_name": "Python 3",
   "language": "python",
   "name": "python3"
  },
  "language_info": {
   "codemirror_mode": {
    "name": "ipython",
    "version": 3
   },
   "file_extension": ".py",
   "mimetype": "text/x-python",
   "name": "python",
   "nbconvert_exporter": "python",
   "pygments_lexer": "ipython3",
   "version": "3.6.4"
  }
 },
 "nbformat": 4,
 "nbformat_minor": 2
}
