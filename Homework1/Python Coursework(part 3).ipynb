{
 "cells": [
  {
   "cell_type": "code",
   "execution_count": 97,
   "metadata": {},
   "outputs": [
    {
     "name": "stdout",
     "output_type": "stream",
     "text": [
      "Populating the interactive namespace from numpy and matplotlib\n"
     ]
    },
    {
     "name": "stderr",
     "output_type": "stream",
     "text": [
      "C:\\Users\\swink_000\\Anaconda2\\envs\\py36\\lib\\site-packages\\IPython\\core\\magics\\pylab.py:161: UserWarning: pylab import has clobbered these variables: ['linspace', 'plt']\n",
      "`%matplotlib` prevents importing * from pylab and numpy\n",
      "  \"\\n`%matplotlib` prevents importing * from pylab and numpy\"\n"
     ]
    }
   ],
   "source": [
    "import numpy as np\n",
    "import time\n",
    "import matplotlib.pylab as plt\n",
    "%pylab inline"
   ]
  },
  {
   "cell_type": "markdown",
   "metadata": {},
   "source": [
    "### Вопрос 1\n",
    "\n",
    "Создайте numpy.ndarray и продемонстрируйте различные способы обращения по индексам"
   ]
  },
  {
   "cell_type": "code",
   "execution_count": 21,
   "metadata": {},
   "outputs": [
    {
     "name": "stdout",
     "output_type": "stream",
     "text": [
      "Исходный массив:\n",
      "[[[86 74]\n",
      "  [ 5 88]\n",
      "  [61 77]\n",
      "  [18  7]]\n",
      "\n",
      " [[32 73]\n",
      "  [98 92]\n",
      "  [68 81]\n",
      "  [27 44]]\n",
      "\n",
      " [[36 56]\n",
      "  [71 99]\n",
      "  [15 30]\n",
      "  [57 74]]]\n",
      "Обращение к второму элементу в первой строке:  74\n",
      "Обращение к первой строке:  [[86, 74], [5, 88], [61, 77], [18, 7]]\n",
      "Обращение к первому столбцу:  [[86 74]\n",
      " [32 73]\n",
      " [36 56]]\n",
      "Слайс массива(первые элементы двумерных массивов каждой строчки с 2 по 3 столбец):  [[5, 61], [98, 68], [71, 15]]\n"
     ]
    }
   ],
   "source": [
    "x = np.random.randint(low = 0, high = 100, size = (3,4,2))\n",
    "print ('Исходный массив:')\n",
    "print (x)\n",
    "\n",
    "print ('Обращение к второму элементу в первой строке: ', x[0,0,1])\n",
    "print ('Обращение к первой строке: ', x[0,:].tolist())\n",
    "print ('Обращение к первому столбцу: ', x[:,0])\n",
    "print ('Слайс массива(первые элементы двумерных массивов каждой строчки с 2 по 3 столбец): ', \n",
    "                           x[:,1:3,0].tolist())"
   ]
  },
  {
   "cell_type": "markdown",
   "metadata": {},
   "source": [
    "### Вопрос 2\n",
    "\n",
    "Сравните по производительности numpy.array и list выполняя стандартную операцию."
   ]
  },
  {
   "cell_type": "code",
   "execution_count": 31,
   "metadata": {
    "collapsed": true
   },
   "outputs": [],
   "source": [
    "npArray = np.random.randint(low = 0, high = 10000, size = 4096)\n",
    "listArray = list(np.random.randint(low = 0, high = 10000, size = 4096))"
   ]
  },
  {
   "cell_type": "code",
   "execution_count": 67,
   "metadata": {},
   "outputs": [
    {
     "name": "stdout",
     "output_type": "stream",
     "text": [
      "Time taken:  0.0002501730918884277\n"
     ]
    }
   ],
   "source": [
    "#let's find max value in npArray\n",
    "timeArray = []\n",
    "for _ in range(1000):\n",
    "    time1 = time.time()\n",
    "    npArray = np.random.randint(low = 0, high = 10000, size = 4096)\n",
    "    x = npArray.max()\n",
    "    time2 = time.time()\n",
    "    timeArray.append(time2 - time1)\n",
    "    \n",
    "print ('Time taken: ', np.mean(timeArray))"
   ]
  },
  {
   "cell_type": "code",
   "execution_count": 69,
   "metadata": {},
   "outputs": [
    {
     "name": "stdout",
     "output_type": "stream",
     "text": [
      "Time taken:  5079.9560546875\n"
     ]
    }
   ],
   "source": [
    "#let's find max value in listArray\n",
    "timeArray = []\n",
    "for _ in range(1000):\n",
    "    time1 = time.time()\n",
    "    listArray = [np.random.randint(low = 0, high = 10000) for _ in range(4096)]\n",
    "    x = max(listArray)\n",
    "    time2 = time.time()\n",
    "    timeArray.append(time2 - time1)\n",
    "    \n",
    "print ('Time taken: ', np.mean(listArray))"
   ]
  },
  {
   "cell_type": "markdown",
   "metadata": {},
   "source": [
    "Видно, что время затрачиваемое на генерацию и нахождение максимума очень сильно отличается"
   ]
  },
  {
   "cell_type": "markdown",
   "metadata": {},
   "source": [
    "### Вопрос 3\n",
    "\n",
    "С помощью list comprehension написать numpy.linspace(), проверим на эффективность"
   ]
  },
  {
   "cell_type": "code",
   "execution_count": 98,
   "metadata": {
    "collapsed": true
   },
   "outputs": [],
   "source": [
    "start = 0\n",
    "finish = 10000000\n",
    "N = 100000"
   ]
  },
  {
   "cell_type": "code",
   "execution_count": 107,
   "metadata": {},
   "outputs": [
    {
     "name": "stdout",
     "output_type": "stream",
     "text": [
      "Time taken:  0.00013141346874416388\n"
     ]
    }
   ],
   "source": [
    "#проверим на эффективность linspace\n",
    "timeArray1 = []\n",
    "for N in range(2, 10000):\n",
    "    time1 = time.time()\n",
    "    linspace = np.linspace(start, finish, N)\n",
    "    time2 = time.time()\n",
    "    timeArray1.append(time2 - time1)\n",
    "\n",
    "print ('Time taken: ', np.mean(timeArray1))"
   ]
  },
  {
   "cell_type": "code",
   "execution_count": 108,
   "metadata": {},
   "outputs": [
    {
     "name": "stdout",
     "output_type": "stream",
     "text": [
      "Time taken:  0.004370575834450947\n"
     ]
    }
   ],
   "source": [
    "#проверим на эффективность list Comprehension\n",
    "timeArray2 = []\n",
    "for N in range(2, 10000):\n",
    "    time1 = time.time()\n",
    "    listLinspace = [start + finish/(N-1) * i for i in range(N)]\n",
    "    time2 = time.time()\n",
    "    timeArray2.append(time2 - time1)\n",
    "\n",
    "print ('Time taken: ', np.mean(timeArray2))"
   ]
  },
  {
   "cell_type": "markdown",
   "metadata": {},
   "source": [
    "В этом случае также, numpy гораздо эффективнее."
   ]
  }
 ],
 "metadata": {
  "kernelspec": {
   "display_name": "Python 3",
   "language": "python",
   "name": "python3"
  },
  "language_info": {
   "codemirror_mode": {
    "name": "ipython",
    "version": 3
   },
   "file_extension": ".py",
   "mimetype": "text/x-python",
   "name": "python",
   "nbconvert_exporter": "python",
   "pygments_lexer": "ipython3",
   "version": "3.6.4"
  }
 },
 "nbformat": 4,
 "nbformat_minor": 2
}
